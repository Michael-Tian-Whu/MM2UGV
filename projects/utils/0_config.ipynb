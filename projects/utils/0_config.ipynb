{
 "cells": [
  {
   "cell_type": "code",
   "execution_count": 2,
   "metadata": {},
   "outputs": [
    {
     "name": "stdout",
     "output_type": "stream",
     "text": [
      "CentOS Linux release 7.3.1611 (Core) \n"
     ]
    }
   ],
   "source": [
    "!cat /etc/redhat-release"
   ]
  },
  {
   "cell_type": "code",
   "execution_count": 6,
   "metadata": {},
   "outputs": [
    {
     "name": "stdout",
     "output_type": "stream",
     "text": [
      "              total        used        free      shared  buff/cache   available\n",
      "Mem:           125G         22G         10G        8.1G         92G         93G\n",
      "Swap:          4.0G        3.9G         97M\n",
      "Total:         129G         26G         10G\n"
     ]
    }
   ],
   "source": [
    "!free -ht"
   ]
  },
  {
   "cell_type": "code",
   "execution_count": 1,
   "metadata": {},
   "outputs": [
    {
     "name": "stdout",
     "output_type": "stream",
     "text": [
      "2\n"
     ]
    }
   ],
   "source": [
    "!cat /proc/cpuinfo | grep \"physical id\" | sort | uniq | wc -l"
   ]
  },
  {
   "cell_type": "code",
   "execution_count": 8,
   "metadata": {},
   "outputs": [
    {
     "name": "stdout",
     "output_type": "stream",
     "text": [
      "cpu cores\t: 8\n"
     ]
    }
   ],
   "source": [
    "!cat /proc/cpuinfo | grep \"cpu cores\" | uniq"
   ]
  },
  {
   "cell_type": "code",
   "execution_count": 3,
   "metadata": {},
   "outputs": [
    {
     "data": {
      "text/plain": [
       "'0.12.2'"
      ]
     },
     "execution_count": 3,
     "metadata": {},
     "output_type": "execute_result"
    }
   ],
   "source": [
    "import seaborn\n",
    "seaborn.__version__"
   ]
  },
  {
   "cell_type": "code",
   "execution_count": 1,
   "metadata": {},
   "outputs": [
    {
     "name": "stderr",
     "output_type": "stream",
     "text": [
      "/data2/haochen.tian/anaconda3/envs/mm/lib/python3.8/site-packages/tqdm/auto.py:21: TqdmWarning: IProgress not found. Please update jupyter and ipywidgets. See https://ipywidgets.readthedocs.io/en/stable/user_install.html\n",
      "  from .autonotebook import tqdm as notebook_tqdm\n"
     ]
    },
    {
     "name": "stdout",
     "output_type": "stream",
     "text": [
      "torch:1.12.1+cu102\n",
      "torchvision0.13.1+cu102\n",
      "True\n",
      "gpu 0\n",
      "_CudaDeviceProperties(name='GeForce GTX TITAN X', major=5, minor=2, total_memory=12212MB, multi_processor_count=24)\n",
      "gpu 1\n",
      "_CudaDeviceProperties(name='GeForce GTX TITAN X', major=5, minor=2, total_memory=12212MB, multi_processor_count=24)\n",
      "gpu 2\n",
      "_CudaDeviceProperties(name='GeForce GTX TITAN X', major=5, minor=2, total_memory=12212MB, multi_processor_count=24)\n",
      "gpu 3\n",
      "_CudaDeviceProperties(name='GeForce GTX TITAN X', major=5, minor=2, total_memory=12212MB, multi_processor_count=24)\n"
     ]
    }
   ],
   "source": [
    "import torch\n",
    "import torchvision\n",
    "print(f\"torch:{torch.__version__}\")\n",
    "print(f\"torchvision{torchvision.__version__}\")\n",
    "# gpu number\n",
    "print(torch.cuda.is_available())\n",
    "n_gpu=torch.cuda.device_count()\n",
    "# gpu attributes\n",
    "for i in range(n_gpu):\n",
    "    print(f\"gpu {i}\")\n",
    "    print(torch.cuda.get_device_properties(i))"
   ]
  }
 ],
 "metadata": {
  "kernelspec": {
   "display_name": "mm",
   "language": "python",
   "name": "python3"
  },
  "language_info": {
   "codemirror_mode": {
    "name": "ipython",
    "version": 3
   },
   "file_extension": ".py",
   "mimetype": "text/x-python",
   "name": "python",
   "nbconvert_exporter": "python",
   "pygments_lexer": "ipython3",
   "version": "3.8.16"
  },
  "orig_nbformat": 4
 },
 "nbformat": 4,
 "nbformat_minor": 2
}
