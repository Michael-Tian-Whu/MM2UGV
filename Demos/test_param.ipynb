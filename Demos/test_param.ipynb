{
 "cells": [
  {
   "attachments": {},
   "cell_type": "markdown",
   "metadata": {},
   "source": [
    "https://blog.csdn.net/qq_33952811/article/details/124276599"
   ]
  },
  {
   "cell_type": "code",
   "execution_count": 46,
   "metadata": {},
   "outputs": [
    {
     "name": "stdout",
     "output_type": "stream",
     "text": [
      "Requirement already satisfied: torch-summary in /home/haochen/anaconda3/envs/clip/lib/python3.8/site-packages (1.4.5)\n",
      "Note: you may need to restart the kernel to use updated packages.\n",
      "Requirement already satisfied: torchstat in /home/haochen/anaconda3/envs/clip/lib/python3.8/site-packages (0.0.7)\n",
      "Requirement already satisfied: numpy in /home/haochen/anaconda3/envs/clip/lib/python3.8/site-packages (from torchstat) (1.21.5)\n",
      "Requirement already satisfied: torch in /home/haochen/anaconda3/envs/clip/lib/python3.8/site-packages (from torchstat) (1.12.1)\n",
      "Requirement already satisfied: pandas in /home/haochen/anaconda3/envs/clip/lib/python3.8/site-packages (from torchstat) (1.5.3)\n",
      "Requirement already satisfied: python-dateutil>=2.8.1 in /home/haochen/anaconda3/envs/clip/lib/python3.8/site-packages (from pandas->torchstat) (2.8.2)\n",
      "Requirement already satisfied: pytz>=2020.1 in /home/haochen/anaconda3/envs/clip/lib/python3.8/site-packages (from pandas->torchstat) (2022.7.1)\n",
      "Requirement already satisfied: typing_extensions in /home/haochen/anaconda3/envs/clip/lib/python3.8/site-packages (from torch->torchstat) (4.4.0)\n",
      "Requirement already satisfied: six>=1.5 in /home/haochen/anaconda3/envs/clip/lib/python3.8/site-packages (from python-dateutil>=2.8.1->pandas->torchstat) (1.16.0)\n",
      "Note: you may need to restart the kernel to use updated packages.\n"
     ]
    }
   ],
   "source": [
    "%pip install torch-summary\n",
    "%pip install torchstat"
   ]
  },
  {
   "cell_type": "code",
   "execution_count": 53,
   "metadata": {},
   "outputs": [
    {
     "name": "stdout",
     "output_type": "stream",
     "text": [
      "AlexNet(\n",
      "  (features): Sequential(\n",
      "    (0): Conv2d(3, 64, kernel_size=(11, 11), stride=(4, 4), padding=(2, 2))\n",
      "    (1): ReLU(inplace=True)\n",
      "    (2): MaxPool2d(kernel_size=3, stride=2, padding=0, dilation=1, ceil_mode=False)\n",
      "    (3): Conv2d(64, 192, kernel_size=(5, 5), stride=(1, 1), padding=(2, 2))\n",
      "    (4): ReLU(inplace=True)\n",
      "    (5): MaxPool2d(kernel_size=3, stride=2, padding=0, dilation=1, ceil_mode=False)\n",
      "    (6): Conv2d(192, 384, kernel_size=(3, 3), stride=(1, 1), padding=(1, 1))\n",
      "    (7): ReLU(inplace=True)\n",
      "    (8): Conv2d(384, 256, kernel_size=(3, 3), stride=(1, 1), padding=(1, 1))\n",
      "    (9): ReLU(inplace=True)\n",
      "    (10): Conv2d(256, 256, kernel_size=(3, 3), stride=(1, 1), padding=(1, 1))\n",
      "    (11): ReLU(inplace=True)\n",
      "    (12): MaxPool2d(kernel_size=3, stride=2, padding=0, dilation=1, ceil_mode=False)\n",
      "  )\n",
      "  (avgpool): AdaptiveAvgPool2d(output_size=(6, 6))\n",
      "  (classifier): Sequential(\n",
      "    (0): Dropout(p=0.5, inplace=False)\n",
      "    (1): Linear(in_features=9216, out_features=4096, bias=True)\n",
      "    (2): ReLU(inplace=True)\n",
      "    (3): Dropout(p=0.5, inplace=False)\n",
      "    (4): Linear(in_features=4096, out_features=4096, bias=True)\n",
      "    (5): ReLU(inplace=True)\n",
      "    (6): Linear(in_features=4096, out_features=1000, bias=True)\n",
      "  )\n",
      ")\n"
     ]
    }
   ],
   "source": [
    "import torch\n",
    "import torchvision.models as models\n",
    "\n",
    "from torchsummary import summary\n",
    "from torchstat import stat\n",
    "\n",
    "model=models.AlexNet()\n",
    "print(model)"
   ]
  },
  {
   "attachments": {},
   "cell_type": "markdown",
   "metadata": {},
   "source": [
    "# 参数访问"
   ]
  },
  {
   "cell_type": "code",
   "execution_count": 48,
   "metadata": {},
   "outputs": [
    {
     "name": "stdout",
     "output_type": "stream",
     "text": [
      "features.0.weight torch.Size([64, 3, 11, 11])\n",
      "features.0.bias torch.Size([64])\n",
      "features.3.weight torch.Size([192, 64, 5, 5])\n",
      "features.3.bias torch.Size([192])\n",
      "features.6.weight torch.Size([384, 192, 3, 3])\n",
      "features.6.bias torch.Size([384])\n",
      "features.8.weight torch.Size([256, 384, 3, 3])\n",
      "features.8.bias torch.Size([256])\n",
      "features.10.weight torch.Size([256, 256, 3, 3])\n",
      "features.10.bias torch.Size([256])\n",
      "classifier.1.weight torch.Size([4096, 9216])\n",
      "classifier.1.bias torch.Size([4096])\n",
      "classifier.4.weight torch.Size([4096, 4096])\n",
      "classifier.4.bias torch.Size([4096])\n",
      "classifier.6.weight torch.Size([1000, 4096])\n",
      "classifier.6.bias torch.Size([1000])\n"
     ]
    }
   ],
   "source": [
    "#state_dict()返回(name,tensor)的OrderDict\n",
    "#用于保存模型 \n",
    "'''\n",
    "torch.save(model.state_dict(),\"model.pth\")\n",
    "'''\n",
    "name_param=model.state_dict()\n",
    "#用于\n",
    "for name,param in name_param.items():\n",
    "    print(name,param.shape)"
   ]
  },
  {
   "cell_type": "code",
   "execution_count": 49,
   "metadata": {},
   "outputs": [
    {
     "name": "stdout",
     "output_type": "stream",
     "text": [
      "torch.Size([64, 3, 11, 11])\n",
      "torch.Size([64])\n",
      "torch.Size([192, 64, 5, 5])\n",
      "torch.Size([192])\n",
      "torch.Size([384, 192, 3, 3])\n",
      "torch.Size([384])\n",
      "torch.Size([256, 384, 3, 3])\n",
      "torch.Size([256])\n",
      "torch.Size([256, 256, 3, 3])\n",
      "torch.Size([256])\n",
      "torch.Size([4096, 9216])\n",
      "torch.Size([4096])\n",
      "torch.Size([4096, 4096])\n",
      "torch.Size([4096])\n",
      "torch.Size([1000, 4096])\n",
      "torch.Size([1000])\n"
     ]
    }
   ],
   "source": [
    "# parameters()返回nn.Parameter的generator[]\n",
    "#用于优化器的初始化\n",
    "'''\n",
    "torch.optim.Adam(model.parameters(),lr=1e-5)\n",
    "'''\n",
    "params=model.parameters()\n",
    "for param in params:\n",
    "    print(param.size())"
   ]
  },
  {
   "cell_type": "code",
   "execution_count": 50,
   "metadata": {},
   "outputs": [
    {
     "name": "stdout",
     "output_type": "stream",
     "text": [
      "features.0.weight torch.Size([64, 3, 11, 11])\n",
      "features.0.bias torch.Size([64])\n",
      "features.3.weight torch.Size([192, 64, 5, 5])\n",
      "features.3.bias torch.Size([192])\n",
      "features.6.weight torch.Size([384, 192, 3, 3])\n",
      "features.6.bias torch.Size([384])\n",
      "features.8.weight torch.Size([256, 384, 3, 3])\n",
      "features.8.bias torch.Size([256])\n",
      "features.10.weight torch.Size([256, 256, 3, 3])\n",
      "features.10.bias torch.Size([256])\n",
      "classifier.1.weight torch.Size([4096, 9216])\n",
      "classifier.1.bias torch.Size([4096])\n",
      "classifier.4.weight torch.Size([4096, 4096])\n",
      "classifier.4.bias torch.Size([4096])\n",
      "classifier.6.weight torch.Size([1000, 4096])\n",
      "classifier.6.bias torch.Size([1000])\n"
     ]
    }
   ],
   "source": [
    "name_params=model.named_parameters()#返回tuple(name,nn.Paramtetr)的Iterator[]\n",
    "for name,param in name_params:\n",
    "    print(name,param.size())"
   ]
  },
  {
   "attachments": {},
   "cell_type": "markdown",
   "metadata": {},
   "source": [
    "# 参数计算"
   ]
  },
  {
   "cell_type": "code",
   "execution_count": 55,
   "metadata": {},
   "outputs": [
    {
     "name": "stdout",
     "output_type": "stream",
     "text": [
      "[MAdd]: AdaptiveAvgPool2d is not supported!\n",
      "[Flops]: AdaptiveAvgPool2d is not supported!\n",
      "[Memory]: AdaptiveAvgPool2d is not supported!\n",
      "[MAdd]: AdaptiveAvgPool2d is not supported!\n",
      "[Flops]: AdaptiveAvgPool2d is not supported!\n",
      "[Memory]: AdaptiveAvgPool2d is not supported!\n",
      "[MAdd]: Dropout is not supported!\n",
      "[Flops]: Dropout is not supported!\n",
      "[Memory]: Dropout is not supported!\n",
      "[MAdd]: Dropout is not supported!\n",
      "[Flops]: Dropout is not supported!\n",
      "[Memory]: Dropout is not supported!\n",
      "[MAdd]: Dropout is not supported!\n",
      "[Flops]: Dropout is not supported!\n",
      "[Memory]: Dropout is not supported!\n",
      "[MAdd]: Dropout is not supported!\n",
      "[Flops]: Dropout is not supported!\n",
      "[Memory]: Dropout is not supported!\n",
      "----------------------------------------------------------------\n",
      "        Layer (type)               Output Shape         Param #\n",
      "================================================================\n",
      "            Conv2d-1           [-1, 64, 63, 63]          23,296\n",
      "              ReLU-2           [-1, 64, 63, 63]               0\n",
      "         MaxPool2d-3           [-1, 64, 31, 31]               0\n",
      "            Conv2d-4          [-1, 192, 31, 31]         307,392\n",
      "              ReLU-5          [-1, 192, 31, 31]               0\n",
      "         MaxPool2d-6          [-1, 192, 15, 15]               0\n",
      "            Conv2d-7          [-1, 384, 15, 15]         663,936\n",
      "              ReLU-8          [-1, 384, 15, 15]               0\n",
      "            Conv2d-9          [-1, 256, 15, 15]         884,992\n",
      "             ReLU-10          [-1, 256, 15, 15]               0\n",
      "           Conv2d-11          [-1, 256, 15, 15]         590,080\n",
      "             ReLU-12          [-1, 256, 15, 15]               0\n",
      "        MaxPool2d-13            [-1, 256, 7, 7]               0\n",
      "AdaptiveAvgPool2d-14            [-1, 256, 6, 6]               0\n",
      "          Dropout-15                 [-1, 9216]               0\n",
      "           Linear-16                 [-1, 4096]      37,752,832\n",
      "             ReLU-17                 [-1, 4096]               0\n",
      "          Dropout-18                 [-1, 4096]               0\n",
      "           Linear-19                 [-1, 4096]      16,781,312\n",
      "             ReLU-20                 [-1, 4096]               0\n",
      "           Linear-21                 [-1, 1000]       4,097,000\n",
      "================================================================\n",
      "Total params: 61,100,840\n",
      "Trainable params: 61,100,840\n",
      "Non-trainable params: 0\n",
      "----------------------------------------------------------------\n",
      "Input size (MB): 0.75\n",
      "Forward/backward pass size (MB): 10.97\n",
      "Params size (MB): 233.08\n",
      "Estimated Total Size (MB): 244.80\n",
      "----------------------------------------------------------------\n"
     ]
    }
   ],
   "source": [
    "#计算不了swin等复杂的\n",
    "summary(model.cpu(),input_size=(3,256,256),batch_size=-1,device=\"cpu\")#移动到GPU"
   ]
  },
  {
   "cell_type": "code",
   "execution_count": 54,
   "metadata": {},
   "outputs": [
    {
     "name": "stdout",
     "output_type": "stream",
     "text": [
      "[MAdd]: AdaptiveAvgPool2d is not supported!\n",
      "[Flops]: AdaptiveAvgPool2d is not supported!\n",
      "[Memory]: AdaptiveAvgPool2d is not supported!\n",
      "[MAdd]: AdaptiveAvgPool2d is not supported!\n",
      "[Flops]: AdaptiveAvgPool2d is not supported!\n",
      "[Memory]: AdaptiveAvgPool2d is not supported!\n",
      "[MAdd]: Dropout is not supported!\n",
      "[Flops]: Dropout is not supported!\n",
      "[Memory]: Dropout is not supported!\n",
      "[MAdd]: Dropout is not supported!\n",
      "[Flops]: Dropout is not supported!\n",
      "[Memory]: Dropout is not supported!\n",
      "[MAdd]: Dropout is not supported!\n",
      "[Flops]: Dropout is not supported!\n",
      "[Memory]: Dropout is not supported!\n",
      "[MAdd]: Dropout is not supported!\n",
      "[Flops]: Dropout is not supported!\n",
      "[Memory]: Dropout is not supported!\n",
      "        module name  input shape output shape      params memory(MB)             MAdd          Flops   MemRead(B)  MemWrite(B) duration[%]    MemR+W(B)\n",
      "0        features.0    3 256 256   64  63  63     23296.0       0.97    184,415,616.0   92,461,824.0     879616.0    1016064.0       4.46%    1895680.0\n",
      "1        features.1   64  63  63   64  63  63         0.0       0.97        254,016.0      254,016.0    1016064.0    1016064.0       0.44%    2032128.0\n",
      "2        features.2   64  63  63   64  31  31         0.0       0.23        492,032.0      254,016.0    1016064.0     246016.0       1.36%    1262080.0\n",
      "3        features.3   64  31  31  192  31  31    307392.0       0.70    590,438,400.0  295,403,712.0    1475584.0     738048.0       6.48%    2213632.0\n",
      "4        features.4  192  31  31  192  31  31         0.0       0.70        184,512.0      184,512.0     738048.0     738048.0       0.40%    1476096.0\n",
      "5        features.5  192  31  31  192  15  15         0.0       0.16        345,600.0      184,512.0     738048.0     172800.0       0.96%     910848.0\n",
      "6        features.6  192  15  15  384  15  15    663936.0       0.33    298,598,400.0  149,385,600.0    2828544.0     345600.0       5.36%    3174144.0\n",
      "7        features.7  384  15  15  384  15  15         0.0       0.33         86,400.0       86,400.0     345600.0     345600.0       0.39%     691200.0\n",
      "8        features.8  384  15  15  256  15  15    884992.0       0.22    398,131,200.0  199,123,200.0    3885568.0     230400.0       4.52%    4115968.0\n",
      "9        features.9  256  15  15  256  15  15         0.0       0.22         57,600.0       57,600.0     230400.0     230400.0       0.36%     460800.0\n",
      "10      features.10  256  15  15  256  15  15    590080.0       0.22    265,420,800.0  132,768,000.0    2590720.0     230400.0       2.89%    2821120.0\n",
      "11      features.11  256  15  15  256  15  15         0.0       0.22         57,600.0       57,600.0     230400.0     230400.0       0.37%     460800.0\n",
      "12      features.12  256  15  15  256   7   7         0.0       0.05        100,352.0       57,600.0     230400.0      50176.0       0.60%     280576.0\n",
      "13          avgpool  256   7   7  256   6   6         0.0       0.04              0.0            0.0          0.0          0.0       0.59%          0.0\n",
      "14     classifier.0         9216         9216         0.0       0.04              0.0            0.0          0.0          0.0       0.36%          0.0\n",
      "15     classifier.1         9216         4096  37752832.0       0.02     75,493,376.0   37,748,736.0  151048192.0      16384.0      45.04%  151064576.0\n",
      "16     classifier.2         4096         4096         0.0       0.02          4,096.0        4,096.0      16384.0      16384.0       0.35%      32768.0\n",
      "17     classifier.3         4096         4096         0.0       0.02              0.0            0.0          0.0          0.0       0.34%          0.0\n",
      "18     classifier.4         4096         4096  16781312.0       0.02     33,550,336.0   16,777,216.0   67141632.0      16384.0      19.42%   67158016.0\n",
      "19     classifier.5         4096         4096         0.0       0.02          4,096.0        4,096.0      16384.0      16384.0       0.33%      32768.0\n",
      "20     classifier.6         4096         1000   4097000.0       0.00      8,191,000.0    4,096,000.0   16404384.0       4000.0       4.99%   16408384.0\n",
      "total                                          61100840.0       5.48  1,855,825,432.0  928,908,736.0   16404384.0       4000.0     100.00%  256491584.0\n",
      "=======================================================================================================================================================\n",
      "Total params: 61,100,840\n",
      "-------------------------------------------------------------------------------------------------------------------------------------------------------\n",
      "Total memory: 5.48MB\n",
      "Total MAdd: 1.86GMAdd\n",
      "Total Flops: 928.91MFlops\n",
      "Total MemR+W: 244.61MB\n",
      "\n"
     ]
    },
    {
     "name": "stderr",
     "output_type": "stream",
     "text": [
      "/home/haochen/anaconda3/envs/clip/lib/python3.8/site-packages/torchstat/reporter.py:63: FutureWarning: The frame.append method is deprecated and will be removed from pandas in a future version. Use pandas.concat instead.\n",
      "  df = df.append(total_df)\n"
     ]
    }
   ],
   "source": [
    "#可以计算swin等复杂的\n",
    "stat(model.cpu(),input_size=(3,256,256))#不能移动到CUDA"
   ]
  }
 ],
 "metadata": {
  "kernelspec": {
   "display_name": "clip",
   "language": "python",
   "name": "python3"
  },
  "language_info": {
   "codemirror_mode": {
    "name": "ipython",
    "version": 3
   },
   "file_extension": ".py",
   "mimetype": "text/x-python",
   "name": "python",
   "nbconvert_exporter": "python",
   "pygments_lexer": "ipython3",
   "version": "3.8.16"
  },
  "orig_nbformat": 4
 },
 "nbformat": 4,
 "nbformat_minor": 2
}
