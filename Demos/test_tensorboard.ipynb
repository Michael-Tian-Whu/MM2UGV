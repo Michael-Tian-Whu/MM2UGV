{
 "cells": [
  {
   "attachments": {},
   "cell_type": "markdown",
   "metadata": {},
   "source": [
    "```\n",
    "https://community.modelscope.cn/63ca6125406cc115977187fa.html\n",
    "```"
   ]
  },
  {
   "cell_type": "markdown",
   "metadata": {},
   "source": [
    "\n",
    "\n",
    "## 折线图\n",
    "每个子文件夹代表一批不同表格的数据，同一批相当于一个writer画的,文件夹的名字是这批数据的名字。  \n",
    "`add_scalar(tag)`代表表格id，即表格的关系，设置不同批的`add_scalar(tag)`相同即可一张表格绘制多个折线。\n",
    "\n",
    "```bash\n",
    "tensorboard --logdir=./paper/test/tensorboard/scale --port 1234\n",
    "```"
   ]
  },
  {
   "cell_type": "code",
   "execution_count": null,
   "metadata": {},
   "outputs": [],
   "source": [
    "from torch.utils.tensorboard.writer import SummaryWriter\n",
    "import math\n",
    "x = range(100)"
   ]
  },
  {
   "cell_type": "code",
   "execution_count": 5,
   "metadata": {},
   "outputs": [],
   "source": [
    "writer1 = SummaryWriter(\"tensorboard/scale/1\")\n",
    "for i in x:\n",
    "    writer1.add_scalar('loss/formula1', i**2, i)\n",
    "    writer1.add_scalar('loss/formula2', math.cos(i), i)\n",
    "writer1.close()"
   ]
  },
  {
   "cell_type": "code",
   "execution_count": 3,
   "metadata": {},
   "outputs": [],
   "source": [
    "writer2 = SummaryWriter(\"tensorboard/scale/2\")\n",
    "for i in x:\n",
    "    writer2.add_scalar('loss/formula1', i**4, i)\n",
    "    writer2.add_scalar('loss/formula2', math.sin(i), i)\n",
    "writer2.close()"
   ]
  },
  {
   "cell_type": "code",
   "execution_count": 4,
   "metadata": {},
   "outputs": [],
   "source": [
    "writer3 = SummaryWriter(\"tensorboard/scale/2\")\n",
    "for i in x:\n",
    "    writer2.add_scalar('loss/formula1', i**4, i)\n",
    "    writer2.add_scalar('loss/formula2', math.sin(i), i)\n",
    "writer3.close()"
   ]
  },
  {
   "attachments": {},
   "cell_type": "markdown",
   "metadata": {},
   "source": [
    "# 图片\n",
    "\n",
    "不能像scalar一样两批显示在一起，但可以同一批设置在一起。"
   ]
  },
  {
   "cell_type": "code",
   "execution_count": 20,
   "metadata": {},
   "outputs": [],
   "source": [
    "\n",
    "from torchvision import datasets,transforms\n",
    "dataset_transform = transforms.Compose([transforms.ToTensor()])\n",
    "dataset=datasets.MNIST(root=\"./mnist\",download=True,transform=dataset_transform)"
   ]
  },
  {
   "cell_type": "code",
   "execution_count": 21,
   "metadata": {},
   "outputs": [
    {
     "data": {
      "text/plain": [
       "torch.Size([1, 28, 28])"
      ]
     },
     "execution_count": 21,
     "metadata": {},
     "output_type": "execute_result"
    }
   ],
   "source": [
    "dataset[0][0].shape"
   ]
  },
  {
   "cell_type": "code",
   "execution_count": 19,
   "metadata": {},
   "outputs": [],
   "source": [
    "from torch.utils.tensorboard.writer import SummaryWriter\n",
    "writer4=SummaryWriter(\"tensorboard/img/minst1\")\n",
    "for i in range(5):\n",
    "    writer4.add_image(f'重叠',dataset[i][0],global_step=i,dataformats='CHW')#宽长通道\n",
    "writer4.close()\n",
    "\n",
    "writer5=SummaryWriter(\"tensorboard/img/minst2\")\n",
    "for i in range(5,10):\n",
    "    writer5.add_image(f'并列/{dataset[i][1]}',dataset[i][0],dataformats='CHW')#宽长通道\n",
    "writer5.close()"
   ]
  },
  {
   "attachments": {},
   "cell_type": "markdown",
   "metadata": {},
   "source": [
    "# 直方图"
   ]
  },
  {
   "cell_type": "code",
   "execution_count": 22,
   "metadata": {},
   "outputs": [],
   "source": [
    "from torch.utils.tensorboard.writer import SummaryWriter\n",
    "import numpy as np\n",
    "writer6=SummaryWriter(\"tensorboard/histogram/1\")\n",
    "writer6.add_histogram('normal_centered', np.random.normal(0, 1, 1000), global_step=1)\n",
    "writer6.add_histogram('normal_centered', np.random.normal(0, 2, 1000), global_step=2)\n",
    "writer6.add_histogram('normal_centered', np.random.normal(0, 3, 1000), global_step=3)\n",
    "writer6.close()"
   ]
  },
  {
   "attachments": {},
   "cell_type": "markdown",
   "metadata": {},
   "source": [
    "# 网络模型"
   ]
  },
  {
   "cell_type": "code",
   "execution_count": 33,
   "metadata": {},
   "outputs": [
    {
     "data": {
      "text/plain": [
       "torch.Size([256, 256, 3])"
      ]
     },
     "execution_count": 33,
     "metadata": {},
     "output_type": "execute_result"
    }
   ],
   "source": [
    "\n",
    "import torch\n",
    "torch.randn(size=[256,256,3]).shape"
   ]
  },
  {
   "cell_type": "code",
   "execution_count": null,
   "metadata": {},
   "outputs": [],
   "source": [
    "model=models.swin_b()\n",
    "model(torch.randn(size=[1,3,384,384])"
   ]
  },
  {
   "cell_type": "code",
   "execution_count": 42,
   "metadata": {},
   "outputs": [],
   "source": [
    "import torch\n",
    "from torch.utils.tensorboard.writer import SummaryWriter\n",
    "from torchvision import models\n",
    "\n",
    "# model1=models.swin_b()\n",
    "# writer=SummaryWriter(\"tensorboard/graph/1\")\n",
    "# writer.add_graph(model1,input_to_model=torch.randn(size=[1,3,224,224]))\n",
    "# writer.close()\n",
    "\n",
    "model2=models.alexnet()\n",
    "writer=SummaryWriter(\"tensorboard/graph/2\")\n",
    "writer.add_graph(model2,input_to_model=torch.randn(size=[1,3,224,224]))\n",
    "writer.close()"
   ]
  }
 ],
 "metadata": {
  "kernelspec": {
   "display_name": "clip",
   "language": "python",
   "name": "python3"
  },
  "language_info": {
   "codemirror_mode": {
    "name": "ipython",
    "version": 3
   },
   "file_extension": ".py",
   "mimetype": "text/x-python",
   "name": "python",
   "nbconvert_exporter": "python",
   "pygments_lexer": "ipython3",
   "version": "3.8.16"
  },
  "orig_nbformat": 4
 },
 "nbformat": 4,
 "nbformat_minor": 2
}
